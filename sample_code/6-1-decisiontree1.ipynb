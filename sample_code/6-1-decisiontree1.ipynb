{
 "cells": [
  {
   "cell_type": "code",
   "execution_count": 1,
   "metadata": {},
   "outputs": [
    {
     "name": "stdout",
     "output_type": "stream",
     "text": [
      "Train:  120\n",
      "Test:  30\n",
      "predict [0 1 0 0 0 2 2 1 0 2 0 0 0 2 0 0 2 2 0 0 0 2 2 1 2 1 0 0 0 2]\n",
      "actual  [0 2 0 0 0 1 2 1 0 2 0 0 0 2 0 0 2 2 0 0 0 2 1 1 2 1 0 0 0 2]\n",
      "Importance:  [0.         0.         0.48062799 0.51937201]\n"
     ]
    }
   ],
   "source": [
    "from sklearn.datasets import load_iris\n",
    "from sklearn.model_selection import train_test_split\n",
    "import pandas as pd\n",
    "\n",
    "# Iris データ読み込み\n",
    "iris = load_iris()\n",
    "\n",
    "# 訓練データとテストデータの振り分け\n",
    "X_train, X_test, y_train, y_test = train_test_split(iris.data, iris.target, test_size=0.2)\n",
    "\n",
    "print('Train: ', len(X_train))\n",
    "print('Test: ', len(X_test))\n",
    "\n",
    "from sklearn.tree import DecisionTreeClassifier\n",
    "# DecisionTreeClassfier\n",
    "dtc = DecisionTreeClassifier(max_depth=3)\n",
    "\n",
    "# 学習\n",
    "dtc.fit(X_train, y_train)\n",
    "\n",
    "# 評価\n",
    "dtc.score(X_test, y_test)\n",
    "\n",
    "# テストデータで予測をしてみる\n",
    "predicted = dtc.predict(X_test)\n",
    "\n",
    "print(\"predict\", predicted)\n",
    "print(\"actual \", y_test)\n",
    "\n",
    "# テストデータによる検証\n",
    "dtc.score(X_test, y_test)\n",
    "\n",
    "# dot へ export\n",
    "from sklearn.tree import export_graphviz\n",
    "export_graphviz(dtc, 'iris_decision_tree.dot')\n",
    "\n",
    "# GraphVisツールで png に変換\n",
    "! dot -Tpng iris_decision_tree.dot -o iris_decision_tree.png\n",
    "\n",
    "print('Importance: ', dtc.feature_importances_)"
   ]
  }
 ],
 "metadata": {
  "kernelspec": {
   "display_name": "Python 3",
   "language": "python",
   "name": "python3"
  },
  "language_info": {
   "codemirror_mode": {
    "name": "ipython",
    "version": 3
   },
   "file_extension": ".py",
   "mimetype": "text/x-python",
   "name": "python",
   "nbconvert_exporter": "python",
   "pygments_lexer": "ipython3",
   "version": "3.7.7"
  }
 },
 "nbformat": 4,
 "nbformat_minor": 4
}

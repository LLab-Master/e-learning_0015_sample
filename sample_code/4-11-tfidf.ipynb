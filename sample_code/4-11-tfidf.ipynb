{
 "cells": [
  {
   "cell_type": "code",
   "execution_count": 2,
   "metadata": {},
   "outputs": [
    {
     "name": "stdout",
     "output_type": "stream",
     "text": [
      "abide 0.00101422016932047\n",
      "about 0.02941238491029363\n",
      "above 0.00101422016932047\n",
      "absence 0.00101422016932047\n",
      "absurd 0.00101422016932047\n",
      "account 0.00101422016932047\n",
      "accounts 0.00101422016932047\n",
      "across 0.00304266050796141\n",
      "act 0.00101422016932047\n",
      "added 0.0101422016932047\n"
     ]
    }
   ],
   "source": [
    "from sklearn.feature_extraction.text import TfidfVectorizer\n",
    "\n",
    "vec = TfidfVectorizer(input='filename')\n",
    "bow = vec.fit_transform(['sample_text.txt']) \n",
    "\n",
    "\n",
    "# 抽出した単語\n",
    "words = vec.get_feature_names()\n",
    "counts = bow.toarray()[0]\n",
    "\n",
    "# 重み付けられた単語\n",
    "for i in range(10):\n",
    "    print(words[i], counts[i])\n"
   ]
  },
  {
   "cell_type": "code",
   "execution_count": null,
   "metadata": {},
   "outputs": [],
   "source": []
  }
 ],
 "metadata": {
  "kernelspec": {
   "display_name": "Python 3",
   "language": "python",
   "name": "python3"
  },
  "language_info": {
   "codemirror_mode": {
    "name": "ipython",
    "version": 3
   },
   "file_extension": ".py",
   "mimetype": "text/x-python",
   "name": "python",
   "nbconvert_exporter": "python",
   "pygments_lexer": "ipython3",
   "version": "3.7.7"
  }
 },
 "nbformat": 4,
 "nbformat_minor": 4
}

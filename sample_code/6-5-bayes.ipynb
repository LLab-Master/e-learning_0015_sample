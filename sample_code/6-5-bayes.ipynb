{
 "cells": [
  {
   "cell_type": "code",
   "execution_count": 1,
   "metadata": {},
   "outputs": [
    {
     "name": "stdout",
     "output_type": "stream",
     "text": [
      "Score: 0.8571428571428571\n"
     ]
    },
    {
     "data": {
      "image/png": "[encoded data removed]",
      "text/plain": [
       "<Figure size 432x288 with 1 Axes>"
      ]
     },
     "metadata": {
      "needs_background": "light"
     },
     "output_type": "display_data"
    }
   ],
   "source": [
    "import pandas as pd\n",
    "%matplotlib inline\n",
    "import matplotlib.pyplot as plt\n",
    "import numpy as np\n",
    "from sklearn.naive_bayes import GaussianNB\n",
    "from sklearn.model_selection import train_test_split\n",
    "\n",
    "# 平面を色分け\n",
    "def view_boundary(model):\n",
    "    data = np.array([[x1, y1] for x1 in np.arange(0, 30, 0.2) for y1 in np.arange(0, 30, 0.2)])\n",
    "    predict = model.predict(data)\n",
    "    data0 = data[predict == 0]\n",
    "    data1 = data[predict == 1]\n",
    "    plt.scatter(data0[:,0], data0[:,1], c='#ffd0d0')\n",
    "    plt.scatter(data1[:,0], data1[:,1], c='#d0d0ff')\n",
    "\n",
    "df = pd.read_csv('data_for_logistic.csv')\n",
    "X = df[['x1', 'x2']]\n",
    "y = df['t']\n",
    "# 訓練データとテストデータに分ける\n",
    "X_train, X_test, y_train, y_test = train_test_split(X, y, test_size=0.2)\n",
    "\n",
    "# 単純ベイズ分類器\n",
    "naive = GaussianNB()\n",
    "# 学習\n",
    "naive.fit(X_train, y_train)\n",
    "# 評価\n",
    "print('Score:', naive.score(X_test, y_test))\n",
    "\n",
    "# 図示\n",
    "data0 = X[y==0]\n",
    "data1 = X[y==1]\n",
    "\n",
    "view_boundary(naive)\n",
    "plt.scatter(data0.x1, data0.x2, c='r', marker='x', label='0')\n",
    "plt.scatter(data1.x1, data1.x2, c='b', marker='o', label='1')\n",
    "plt.legend()\n",
    "plt.show()"
   ]
  }
 ],
 "metadata": {
  "kernelspec": {
   "display_name": "Python 3",
   "language": "python",
   "name": "python3"
  },
  "language_info": {
   "codemirror_mode": {
    "name": "ipython",
    "version": 3
   },
   "file_extension": ".py",
   "mimetype": "text/x-python",
   "name": "python",
   "nbconvert_exporter": "python",
   "pygments_lexer": "ipython3",
   "version": "3.7.7"
  }
 },
 "nbformat": 4,
 "nbformat_minor": 4
}

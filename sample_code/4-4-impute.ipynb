{
 "cells": [
  {
   "cell_type": "code",
   "execution_count": 2,
   "metadata": {},
   "outputs": [
    {
     "name": "stdout",
     "output_type": "stream",
     "text": [
      "[[ 0.5  nan  1. ]\n",
      " [ 2.  10.   8. ]\n",
      " [ 1.   5.   3. ]\n",
      " [ nan  3.5  1. ]]\n",
      "[[ 0.5         6.16666667  1.        ]\n",
      " [ 2.         10.          8.        ]\n",
      " [ 1.          5.          3.        ]\n",
      " [ 1.16666667  3.5         1.        ]]\n",
      "[[ 0.5  5.   1. ]\n",
      " [ 2.  10.   8. ]\n",
      " [ 1.   5.   3. ]\n",
      " [ 1.   3.5  1. ]]\n",
      "[[ 0.5  0.   1. ]\n",
      " [ 2.  10.   8. ]\n",
      " [ 1.   5.   3. ]\n",
      " [ 0.   3.5  1. ]]\n"
     ]
    }
   ],
   "source": [
    "import numpy as np\n",
    "# 初期データ\n",
    "#   np.NaN のところのデータが欠けている\n",
    "x = np.array([\n",
    "        [0.5, np.NaN, 1.],\n",
    "        [2., 10., 8.],\n",
    "        [1., 5., 3.],\n",
    "        [np.NaN, 3.5, 1]])\n",
    "print(x)\n",
    "\n",
    "from sklearn import impute\n",
    "\n",
    "## impute.SimpleImputer()\n",
    "##   strategey='mean': 平均値\n",
    "imp = impute.SimpleImputer(strategy='mean')\n",
    "x2 = imp.fit_transform(x)\n",
    "print(x2)\n",
    "\n",
    "##   strategey='median': 中央値\n",
    "imp2 = impute.SimpleImputer(strategy='median')\n",
    "x3 = imp2.fit_transform(x)\n",
    "print(x3)\n",
    "\n",
    "##   strategey='constant': 固定値(デフォルトは0。fill_value= で値を指定可)\n",
    "imp3 = impute.SimpleImputer(strategy='constant')\n",
    "x4 =imp3.fit_transform(x)\n",
    "print(x4)\n"
   ]
  }
 ],
 "metadata": {
  "kernelspec": {
   "display_name": "Python 3",
   "language": "python",
   "name": "python3"
  },
  "language_info": {
   "codemirror_mode": {
    "name": "ipython",
    "version": 3
   },
   "file_extension": ".py",
   "mimetype": "text/x-python",
   "name": "python",
   "nbconvert_exporter": "python",
   "pygments_lexer": "ipython3",
   "version": "3.7.7"
  }
 },
 "nbformat": 4,
 "nbformat_minor": 4
}

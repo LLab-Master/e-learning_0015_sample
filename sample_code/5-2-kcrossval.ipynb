{
 "cells": [
  {
   "cell_type": "code",
   "execution_count": 1,
   "metadata": {},
   "outputs": [
    {
     "name": "stdout",
     "output_type": "stream",
     "text": [
      "[0.85714286 1.         1.         0.71428571 1.        ]\n"
     ]
    }
   ],
   "source": [
    "from sklearn.model_selection import cross_val_score\n",
    "from sklearn.datasets import load_iris\n",
    "from sklearn.linear_model import LogisticRegression\n",
    "import pandas as pd\n",
    "import numpy as np\n",
    "\n",
    "# ロジスティック回帰で試してみる\n",
    "df = pd.read_csv('data_for_logistic.csv')\n",
    "x_train = df[['x1', 'x2']].values\n",
    "y_train = df['t'].values\n",
    "lr = LogisticRegression()\n",
    "\n",
    "# cvで分割数を指定。戻り値は各回の結果スコア\n",
    "scores = cross_val_score(lr, x_train, y_train, cv=5)\n",
    "\n",
    "#\n",
    "print(scores)"
   ]
  }
 ],
 "metadata": {
  "kernelspec": {
   "display_name": "Python 3",
   "language": "python",
   "name": "python3"
  },
  "language_info": {
   "codemirror_mode": {
    "name": "ipython",
    "version": 3
   },
   "file_extension": ".py",
   "mimetype": "text/x-python",
   "name": "python",
   "nbconvert_exporter": "python",
   "pygments_lexer": "ipython3",
   "version": "3.7.7"
  }
 },
 "nbformat": 4,
 "nbformat_minor": 4
}

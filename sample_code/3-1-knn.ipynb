{
 "cells": [
  {
   "cell_type": "code",
   "execution_count": 2,
   "metadata": {},
   "outputs": [
    {
     "name": "stdout",
     "output_type": "stream",
     "text": [
      "[0 1 2]\n"
     ]
    },
    {
     "data": {
      "text/plain": [
       "<matplotlib.legend.Legend at 0x7fb6c18fccd0>"
      ]
     },
     "execution_count": 2,
     "metadata": {},
     "output_type": "execute_result"
    },
    {
     "data": {
      "image/png": "[encoded data removed]",
      "text/plain": [
       "<Figure size 432x288 with 1 Axes>"
      ]
     },
     "metadata": {
      "needs_background": "light"
     },
     "output_type": "display_data"
    }
   ],
   "source": [
    "%matplotlib inline\n",
    "import matplotlib.pyplot as plt\n",
    "import numpy as np\n",
    "np.random.seed(0)\n",
    "\n",
    "## 学習に使う初期データを作る\n",
    "n_samples = 20\n",
    "\n",
    "data = np.random.randint(0, 100, (n_samples, 2)).astype(np.float32)\n",
    "labels = np.random.randint(0, 3, n_samples)\n",
    "\n",
    "## 可視化\n",
    "def plot_data(data, labels):\n",
    "    red = []\n",
    "    green = []\n",
    "    blue = []\n",
    "    for d, label in zip(data, labels):\n",
    "        if label == 0:\n",
    "            red.append(d)\n",
    "        elif label == 1:\n",
    "            green.append(d)\n",
    "        else:\n",
    "            blue.append(d)\n",
    "    red = np.array(red, dtype=np.float32)\n",
    "    green = np.array(green, dtype=np.float32)\n",
    "    blue = np.array(blue, dtype=np.float32)\n",
    "\n",
    "    plt.scatter(red[:,0], red[:,1], c='r', marker='o', s=180, label='label=0')\n",
    "    plt.scatter(green[:,0], green[:,1], c='g', marker='^', s=180, label='label=1')\n",
    "    plt.scatter(blue[:,0], blue[:,1], c='b', marker='s', s=180, label='label=2')\n",
    "    plt.legend()\n",
    "\n",
    "## kNN 法呼び出し\n",
    "from sklearn.neighbors import KNeighborsClassifier\n",
    "\n",
    "## 近傍3点\n",
    "knn = KNeighborsClassifier(n_neighbors=3)\n",
    "\n",
    "## 学習\n",
    "knn.fit(data, labels)\n",
    "\n",
    "## 新しい点を作る\n",
    "new_points = [[30, 90], [60, 80], [80, 80]]\n",
    "new_np = np.array(new_points).astype(np.float32)\n",
    "\n",
    "## 予測\n",
    "new_labels = knn.predict(new_np)\n",
    "print(new_labels)\n",
    "\n",
    "## 可視化\n",
    "plot_data(data, labels)\n",
    "\n",
    "plt.scatter(new_np[:,0], new_np[:,1], c='gold', marker='D', s=180, label='new points')\n",
    "plt.legend()"
   ]
  }
 ],
 "metadata": {
  "kernelspec": {
   "display_name": "Python 3",
   "language": "python",
   "name": "python3"
  },
  "language_info": {
   "codemirror_mode": {
    "name": "ipython",
    "version": 3
   },
   "file_extension": ".py",
   "mimetype": "text/x-python",
   "name": "python",
   "nbconvert_exporter": "python",
   "pygments_lexer": "ipython3",
   "version": "3.7.7"
  }
 },
 "nbformat": 4,
 "nbformat_minor": 4
}

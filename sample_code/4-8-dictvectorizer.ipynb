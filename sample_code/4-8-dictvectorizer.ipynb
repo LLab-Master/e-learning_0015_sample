{
 "cells": [
  {
   "cell_type": "code",
   "execution_count": 1,
   "metadata": {},
   "outputs": [
    {
     "name": "stdout",
     "output_type": "stream",
     "text": [
      "['color=blue', 'color=green', 'color=red', 'place=Fukuoka', 'place=Kyoto', 'place=Nagoya', 'place=Osaka', 'place=Tokyo', 'place=Yokohama', 'sum']\n",
      "  (0, 2)\t1\n",
      "  (0, 7)\t1\n",
      "  (0, 9)\t1500\n",
      "  (1, 0)\t1\n",
      "  (1, 6)\t1\n",
      "  (1, 9)\t1200\n",
      "  (2, 1)\t1\n",
      "  (2, 5)\t1\n",
      "  (2, 9)\t500\n",
      "  (3, 2)\t1\n",
      "  (3, 8)\t1\n",
      "  (3, 9)\t700\n",
      "  (4, 0)\t1\n",
      "  (4, 3)\t1\n",
      "  (4, 9)\t500\n",
      "  (5, 0)\t1\n",
      "  (5, 4)\t1\n",
      "  (5, 9)\t500\n",
      "[[   0    0    1    0    0    0    0    1    0 1500]\n",
      " [   1    0    0    0    0    0    1    0    0 1200]\n",
      " [   0    1    0    0    0    1    0    0    0  500]\n",
      " [   0    0    1    0    0    0    0    0    1  700]\n",
      " [   1    0    0    1    0    0    0    0    0  500]\n",
      " [   1    0    0    0    1    0    0    0    0  500]]\n"
     ]
    }
   ],
   "source": [
    "data = [\n",
    "    {'place': 'Tokyo', 'sum': 1500, 'color': 'red'},\n",
    "    {'place': 'Osaka', 'sum': 1200, 'color': 'blue'},\n",
    "    {'place': 'Nagoya', 'sum': 500, 'color': 'green'},\n",
    "    {'place': 'Yokohama', 'sum': 700, 'color': 'red'},\n",
    "    {'place': 'Fukuoka', 'sum': 500, 'color': 'blue'},\n",
    "    {'place': 'Kyoto', 'sum': 500, 'color': 'blue'},\n",
    "]\n",
    "\n",
    "# One Hot 化\n",
    "from sklearn.feature_extraction import DictVectorizer\n",
    "\n",
    "vec = DictVectorizer(dtype=int)\n",
    "data_vec = vec.fit_transform(data)\n",
    "\n",
    "# 変換した特徴量の名前\n",
    "print(vec.get_feature_names())\n",
    "# 変換結果(疎行列の形式)\n",
    "print(data_vec)\n",
    "# 変換結果(np.arrayにして見やすく)\n",
    "print(data_vec.toarray())"
   ]
  }
 ],
 "metadata": {
  "kernelspec": {
   "display_name": "Python 3",
   "language": "python",
   "name": "python3"
  },
  "language_info": {
   "codemirror_mode": {
    "name": "ipython",
    "version": 3
   },
   "file_extension": ".py",
   "mimetype": "text/x-python",
   "name": "python",
   "nbconvert_exporter": "python",
   "pygments_lexer": "ipython3",
   "version": "3.7.7"
  }
 },
 "nbformat": 4,
 "nbformat_minor": 4
}

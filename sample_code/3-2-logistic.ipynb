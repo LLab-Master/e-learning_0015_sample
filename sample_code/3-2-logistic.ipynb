{
 "cells": [
  {
   "cell_type": "code",
   "execution_count": 3,
   "metadata": {},
   "outputs": [
    {
     "name": "stdout",
     "output_type": "stream",
     "text": [
      "[0 1 1]\n"
     ]
    },
    {
     "data": {
      "text/plain": [
       "[<matplotlib.lines.Line2D at 0x7fb9c016e9d0>]"
      ]
     },
     "execution_count": 3,
     "metadata": {},
     "output_type": "execute_result"
    },
    {
     "data": {
      "image/png": "[encoded data removed]",
      "text/plain": [
       "<Figure size 432x288 with 1 Axes>"
      ]
     },
     "metadata": {
      "needs_background": "light"
     },
     "output_type": "display_data"
    }
   ],
   "source": [
    "%matplotlib inline\n",
    "import matplotlib.pyplot as plt\n",
    "import numpy as np\n",
    "\n",
    "### データ読み込み\n",
    "import pandas as pd\n",
    "\n",
    "df = pd.read_csv('data_for_logistic.csv')\n",
    "data0 = df[df['t']==0]\n",
    "data1 = df[df['t']==1]\n",
    "\n",
    "plt.scatter(data0.x1, data0.x2, c='r', marker='x', label='0')\n",
    "plt.scatter(data1.x1, data1.x2, c='b',marker='o', label='1')\n",
    "plt.legend()\n",
    "\n",
    "### ロジスティック回帰分離器の読み込み\n",
    "from sklearn.linear_model import LogisticRegression\n",
    "\n",
    "lr = LogisticRegression()\n",
    "\n",
    "### 学習\n",
    "x_train = df[['x1', 'x2']].values\n",
    "y_train = df['t'].values\n",
    "\n",
    "lr.fit(x_train, y_train)\n",
    "\n",
    "### 予測\n",
    "new_point = np.array([[5, 5], [15, 15], [25, 25]]).astype(np.float32)\n",
    "pred = lr.predict(new_point)\n",
    "print(pred)\n",
    "\n",
    "### 境界線を描画してみる。\n",
    "\n",
    "### y = w0 + w1 * x1 + w2 * x2  のパラメータを取り出す。\n",
    "w0 = lr.intercept_[0]\n",
    "w1 = lr.coef_[0, 0]\n",
    "w2 = lr.coef_[0, 1]\n",
    "\n",
    "### y = 0 とおいて直線の式を作る。\n",
    "###   w0 + w1 * x1 + w2 * x2 = 0\n",
    "###      =>  x2 = -(w0 + w1 * x1)/w2\n",
    "x2 = lambda x1 : -1 * (w0 + w1 * x1) / w2\n",
    "\n",
    "plt.scatter(data0.x1, data0.x2, c='r', marker='x')\n",
    "plt.scatter(data1.x1, data1.x2, c='b',marker='o')\n",
    "plt.scatter(new_point[:, 0], new_point[:, 1], c='g', marker='s')\n",
    "\n",
    "line_x = np.linspace(0, 30, 10)\n",
    "plt.plot(line_x, x2(line_x))"
   ]
  }
 ],
 "metadata": {
  "kernelspec": {
   "display_name": "Python 3",
   "language": "python",
   "name": "python3"
  },
  "language_info": {
   "codemirror_mode": {
    "name": "ipython",
    "version": 3
   },
   "file_extension": ".py",
   "mimetype": "text/x-python",
   "name": "python",
   "nbconvert_exporter": "python",
   "pygments_lexer": "ipython3",
   "version": "3.7.7"
  }
 },
 "nbformat": 4,
 "nbformat_minor": 4
}

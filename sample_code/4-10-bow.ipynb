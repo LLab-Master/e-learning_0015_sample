{
 "cells": [
  {
   "cell_type": "code",
   "execution_count": 1,
   "metadata": {},
   "outputs": [
    {
     "name": "stdout",
     "output_type": "stream",
     "text": [
      "abide 1\n",
      "about 29\n",
      "above 1\n",
      "absence 1\n",
      "absurd 1\n",
      "account 1\n",
      "accounts 1\n",
      "across 3\n",
      "act 1\n",
      "added 10\n"
     ]
    }
   ],
   "source": [
    "from sklearn.feature_extraction.text import CountVectorizer\n",
    "\n",
    "vec = CountVectorizer(input='filename')\n",
    "bow = vec.fit_transform(['sample_text.txt'])\n",
    "\n",
    "# 抽出した単語\n",
    "words = vec.get_feature_names()\n",
    "counts = bow.toarray()[0]\n",
    "\n",
    "# 単語出現回数(抜粋)\n",
    "for i in range(10):\n",
    "    print(words[i], counts[i])\n"
   ]
  },
  {
   "cell_type": "code",
   "execution_count": null,
   "metadata": {},
   "outputs": [],
   "source": []
  }
 ],
 "metadata": {
  "kernelspec": {
   "display_name": "Python 3",
   "language": "python",
   "name": "python3"
  },
  "language_info": {
   "codemirror_mode": {
    "name": "ipython",
    "version": 3
   },
   "file_extension": ".py",
   "mimetype": "text/x-python",
   "name": "python",
   "nbconvert_exporter": "python",
   "pygments_lexer": "ipython3",
   "version": "3.7.7"
  }
 },
 "nbformat": 4,
 "nbformat_minor": 4
}
